{
 "cells": [
  {
   "cell_type": "markdown",
   "metadata": {},
   "source": []
  },
  {
   "cell_type": "markdown",
   "metadata": {},
   "source": [
    "### Activate virtual environment"
   ]
  },
  {
   "cell_type": "code",
   "execution_count": 1,
   "metadata": {
    "collapsed": true
   },
   "outputs": [],
   "source": [
    "%%bash\n",
    "source ~/kerai/bin/activate"
   ]
  },
  {
   "cell_type": "markdown",
   "metadata": {},
   "source": [
    "### Imports"
   ]
  },
  {
   "cell_type": "code",
   "execution_count": 2,
   "metadata": {},
   "outputs": [
    {
     "name": "stderr",
     "output_type": "stream",
     "text": [
      "Using TensorFlow backend.\n"
     ]
    }
   ],
   "source": [
    "%matplotlib inline\n",
    "import numpy as np\n",
    "import matplotlib\n",
    "from matplotlib import pyplot as plt\n",
    "from keras.models import Sequential\n",
    "from keras.optimizers import Adam\n",
    "from keras.callbacks import ModelCheckpoint\n",
    "from keras.models import load_model\n",
    "from keras.layers import Lambda, Conv2D, MaxPooling2D, Dropout, Dense, Flatten, Activation"
   ]
  },
  {
   "cell_type": "markdown",
   "metadata": {},
   "source": [
    "Import helper functions"
   ]
  },
  {
   "cell_type": "code",
   "execution_count": 3,
   "metadata": {
    "collapsed": true
   },
   "outputs": [],
   "source": [
    "from helper import get_class_names, get_train_data, get_test_data, plot_images, plot_model"
   ]
  },
  {
   "cell_type": "markdown",
   "metadata": {},
   "source": [
    "Change matplotlib graph style"
   ]
  },
  {
   "cell_type": "code",
   "execution_count": 4,
   "metadata": {
    "collapsed": true
   },
   "outputs": [],
   "source": [
    "matplotlib.style.use('ggplot')"
   ]
  },
  {
   "cell_type": "markdown",
   "metadata": {},
   "source": [
    "### Constants"
   ]
  },
  {
   "cell_type": "markdown",
   "metadata": {},
   "source": [
    "Import class names"
   ]
  },
  {
   "cell_type": "code",
   "execution_count": 5,
   "metadata": {},
   "outputs": [
    {
     "name": "stdout",
     "output_type": "stream",
     "text": [
      "Decoding file: data/batches.meta\n",
      "['airplane', 'automobile', 'bird', 'cat', 'deer', 'dog', 'frog', 'horse', 'ship', 'truck']\n"
     ]
    }
   ],
   "source": [
    "class_names = get_class_names()\n",
    "print(class_names)"
   ]
  },
  {
   "cell_type": "markdown",
   "metadata": {},
   "source": [
    "Get number of classes"
   ]
  },
  {
   "cell_type": "code",
   "execution_count": 6,
   "metadata": {},
   "outputs": [
    {
     "name": "stdout",
     "output_type": "stream",
     "text": [
      "10\n"
     ]
    }
   ],
   "source": [
    "num_classes = len(class_names)\n",
    "print(num_classes)"
   ]
  },
  {
   "cell_type": "code",
   "execution_count": 1,
   "metadata": {
    "collapsed": true
   },
   "outputs": [],
   "source": [
    "# Hight and width of the images\n",
    "IMAGE_SIZE = 32\n",
    "# 3 channels, Red, Green and Blue\n",
    "CHANNELS = 3"
   ]
  },
  {
   "cell_type": "markdown",
   "metadata": {},
   "source": [
    "### Fetch and decode data"
   ]
  },
  {
   "cell_type": "markdown",
   "metadata": {},
   "source": [
    "Load the training dataset. Labels are integers whereas class is one-hot encoded vectors."
   ]
  },
  {
   "cell_type": "code",
   "execution_count": 7,
   "metadata": {},
   "outputs": [
    {
     "name": "stdout",
     "output_type": "stream",
     "text": [
      "Decoding file: data/data_batch_1\n",
      "Decoding file: data/data_batch_2\n",
      "Decoding file: data/data_batch_3\n",
      "Decoding file: data/data_batch_4\n",
      "Decoding file: data/data_batch_5\n"
     ]
    }
   ],
   "source": [
    "images_train, labels_train, class_train = get_train_data()"
   ]
  },
  {
   "cell_type": "markdown",
   "metadata": {},
   "source": [
    "Normal labels"
   ]
  },
  {
   "cell_type": "code",
   "execution_count": 8,
   "metadata": {},
   "outputs": [
    {
     "name": "stdout",
     "output_type": "stream",
     "text": [
      "[6 9 9 ..., 9 1 1]\n"
     ]
    }
   ],
   "source": [
    "print(labels_train)"
   ]
  },
  {
   "cell_type": "markdown",
   "metadata": {},
   "source": [
    "One hot encoded labels"
   ]
  },
  {
   "cell_type": "code",
   "execution_count": 9,
   "metadata": {},
   "outputs": [
    {
     "name": "stdout",
     "output_type": "stream",
     "text": [
      "[[ 0.  0.  0. ...,  0.  0.  0.]\n",
      " [ 0.  0.  0. ...,  0.  0.  1.]\n",
      " [ 0.  0.  0. ...,  0.  0.  1.]\n",
      " ..., \n",
      " [ 0.  0.  0. ...,  0.  0.  1.]\n",
      " [ 0.  1.  0. ...,  0.  0.  0.]\n",
      " [ 0.  1.  0. ...,  0.  0.  0.]]\n"
     ]
    }
   ],
   "source": [
    "print(class_train)"
   ]
  },
  {
   "cell_type": "markdown",
   "metadata": {},
   "source": [
    "Load the testing dataset."
   ]
  },
  {
   "cell_type": "code",
   "execution_count": 10,
   "metadata": {},
   "outputs": [
    {
     "name": "stdout",
     "output_type": "stream",
     "text": [
      "Decoding file: data/test_batch\n"
     ]
    }
   ],
   "source": [
    "images_test, labels_test, class_test = get_test_data()"
   ]
  },
  {
   "cell_type": "code",
   "execution_count": 11,
   "metadata": {},
   "outputs": [
    {
     "name": "stdout",
     "output_type": "stream",
     "text": [
      "Training set size:\t 50000\n",
      "Testing set size:\t 10000\n"
     ]
    }
   ],
   "source": [
    "print(\"Training set size:\\t\",len(images_train))\n",
    "print(\"Testing set size:\\t\",len(images_test))"
   ]
  },
  {
   "cell_type": "markdown",
   "metadata": {},
   "source": [
    "The CIFAR-10 dataset has been loaded and consists of a total of 60,000 images and corresponding labels."
   ]
  },
  {
   "cell_type": "markdown",
   "metadata": {},
   "source": [
    "### Define the CNN model"
   ]
  },
  {
   "cell_type": "code",
   "execution_count": 12,
   "metadata": {
    "collapsed": true
   },
   "outputs": [],
   "source": [
    "def cnn_model():\n",
    "    \n",
    "    model = Sequential()\n",
    "    \n",
    "    model.add(Conv2D(32, (3, 3), activation='relu', padding='same', input_shape=(IMAGE_SIZE,IMAGE_SIZE,CHANNELS)))    \n",
    "    model.add(Conv2D(32, (3, 3), activation='relu'))    \n",
    "    model.add(MaxPooling2D(pool_size=(2, 2)))\n",
    "    model.add(Dropout(0.25))\n",
    "\n",
    "    \n",
    "    model.add(Conv2D(64, (3, 3), activation='relu', padding='same'))    \n",
    "    model.add(Conv2D(64, (3, 3), activation='relu'))\n",
    "    model.add(MaxPooling2D(pool_size=(2, 2)))\n",
    "    model.add(Dropout(0.25))\n",
    "\n",
    "    model.add(Flatten())\n",
    "    \n",
    "    model.add(Dense(512, activation='relu'))\n",
    "    model.add(Dropout(0.5))\n",
    "    \n",
    "    model.add(Dense(num_classes, activation='softmax'))\n",
    "    \n",
    "    model.summary()\n",
    "    \n",
    "    return model"
   ]
  },
  {
   "cell_type": "markdown",
   "metadata": {},
   "source": [
    "Build model"
   ]
  },
  {
   "cell_type": "code",
   "execution_count": 13,
   "metadata": {},
   "outputs": [
    {
     "name": "stdout",
     "output_type": "stream",
     "text": [
      "_________________________________________________________________\n",
      "Layer (type)                 Output Shape              Param #   \n",
      "=================================================================\n",
      "conv2d_1 (Conv2D)            (None, 32, 32, 32)        896       \n",
      "_________________________________________________________________\n",
      "conv2d_2 (Conv2D)            (None, 30, 30, 32)        9248      \n",
      "_________________________________________________________________\n",
      "max_pooling2d_1 (MaxPooling2 (None, 15, 15, 32)        0         \n",
      "_________________________________________________________________\n",
      "dropout_1 (Dropout)          (None, 15, 15, 32)        0         \n",
      "_________________________________________________________________\n",
      "conv2d_3 (Conv2D)            (None, 15, 15, 64)        18496     \n",
      "_________________________________________________________________\n",
      "conv2d_4 (Conv2D)            (None, 13, 13, 64)        36928     \n",
      "_________________________________________________________________\n",
      "max_pooling2d_2 (MaxPooling2 (None, 6, 6, 64)          0         \n",
      "_________________________________________________________________\n",
      "dropout_2 (Dropout)          (None, 6, 6, 64)          0         \n",
      "_________________________________________________________________\n",
      "flatten_1 (Flatten)          (None, 2304)              0         \n",
      "_________________________________________________________________\n",
      "dense_1 (Dense)              (None, 512)               1180160   \n",
      "_________________________________________________________________\n",
      "dropout_3 (Dropout)          (None, 512)               0         \n",
      "_________________________________________________________________\n",
      "dense_2 (Dense)              (None, 10)                5130      \n",
      "=================================================================\n",
      "Total params: 1,250,858\n",
      "Trainable params: 1,250,858\n",
      "Non-trainable params: 0\n",
      "_________________________________________________________________\n"
     ]
    }
   ],
   "source": [
    "model = cnn_model()"
   ]
  },
  {
   "cell_type": "markdown",
   "metadata": {},
   "source": [
    "### Train model on the training data"
   ]
  },
  {
   "cell_type": "markdown",
   "metadata": {},
   "source": [
    "Save the model after every epoch"
   ]
  },
  {
   "cell_type": "code",
   "execution_count": 14,
   "metadata": {
    "collapsed": true
   },
   "outputs": [],
   "source": [
    "checkpoint = ModelCheckpoint('best_model_simple.h5',  # model filename\n",
    "                             monitor='val_loss', # quantity to monitor\n",
    "                             verbose=0, # verbosity - 0 or 1\n",
    "                             save_best_only= True, # The latest best model will not be overwritten\n",
    "                             mode='auto') # The decision to overwrite model is made \n",
    "                                          # automatically depending on the quantity to monitor "
   ]
  },
  {
   "cell_type": "markdown",
   "metadata": {},
   "source": [
    "Configure the model for training"
   ]
  },
  {
   "cell_type": "code",
   "execution_count": 15,
   "metadata": {
    "collapsed": true
   },
   "outputs": [],
   "source": [
    "model.compile(loss='categorical_crossentropy', # Better loss function for neural networks\n",
    "              optimizer=Adam(lr=1.0e-4), # Adam optimizer with 1.0e-4 learning rate\n",
    "              metrics = ['accuracy']) # Metrics to be evaluated by the model"
   ]
  },
  {
   "cell_type": "markdown",
   "metadata": {},
   "source": [
    "For more information on categorical cross entropy loss function see - https://jamesmccaffrey.wordpress.com/2013/11/05/why-you-should-use-cross-entropy-error-instead-of-classification-error-or-mean-squared-error-for-neural-network-classifier-training/"
   ]
  },
  {
   "cell_type": "markdown",
   "metadata": {},
   "source": [
    "Fit the model on the data provided"
   ]
  },
  {
   "cell_type": "code",
   "execution_count": 16,
   "metadata": {},
   "outputs": [
    {
     "name": "stdout",
     "output_type": "stream",
     "text": [
      "Train on 50000 samples, validate on 10000 samples\n",
      "Epoch 1/100\n",
      "50000/50000 [==============================] - 85s - loss: 1.9323 - acc: 0.2891 - val_loss: 1.6324 - val_acc: 0.4150\n",
      "Epoch 2/100\n",
      "50000/50000 [==============================] - 82s - loss: 1.5806 - acc: 0.4253 - val_loss: 1.4275 - val_acc: 0.4862\n",
      "Epoch 3/100\n",
      "50000/50000 [==============================] - 82s - loss: 1.4481 - acc: 0.4753 - val_loss: 1.3389 - val_acc: 0.5209\n",
      "Epoch 4/100\n",
      "50000/50000 [==============================] - 82s - loss: 1.3712 - acc: 0.5065 - val_loss: 1.2795 - val_acc: 0.5449\n",
      "Epoch 5/100\n",
      "50000/50000 [==============================] - 82s - loss: 1.3134 - acc: 0.5290 - val_loss: 1.2220 - val_acc: 0.5619\n",
      "Epoch 6/100\n",
      "50000/50000 [==============================] - 82s - loss: 1.2571 - acc: 0.5529 - val_loss: 1.1620 - val_acc: 0.5902\n",
      "Epoch 7/100\n",
      "50000/50000 [==============================] - 82s - loss: 1.2140 - acc: 0.5695 - val_loss: 1.1246 - val_acc: 0.6024\n",
      "Epoch 8/100\n",
      "50000/50000 [==============================] - 82s - loss: 1.1743 - acc: 0.5857 - val_loss: 1.0778 - val_acc: 0.6194\n",
      "Epoch 9/100\n",
      "50000/50000 [==============================] - 82s - loss: 1.1310 - acc: 0.6002 - val_loss: 1.0664 - val_acc: 0.6234\n",
      "Epoch 10/100\n",
      "50000/50000 [==============================] - 82s - loss: 1.0968 - acc: 0.6130 - val_loss: 1.0168 - val_acc: 0.6405\n",
      "Epoch 11/100\n",
      "50000/50000 [==============================] - 82s - loss: 1.0661 - acc: 0.6237 - val_loss: 0.9985 - val_acc: 0.6476\n",
      "Epoch 12/100\n",
      "50000/50000 [==============================] - 82s - loss: 1.0363 - acc: 0.6368 - val_loss: 0.9774 - val_acc: 0.6554\n",
      "Epoch 13/100\n",
      "50000/50000 [==============================] - 82s - loss: 1.0129 - acc: 0.6433 - val_loss: 0.9408 - val_acc: 0.6678\n",
      "Epoch 14/100\n",
      "50000/50000 [==============================] - 82s - loss: 0.9923 - acc: 0.6514 - val_loss: 0.9282 - val_acc: 0.6742\n",
      "Epoch 15/100\n",
      "50000/50000 [==============================] - 82s - loss: 0.9617 - acc: 0.6614 - val_loss: 0.9177 - val_acc: 0.6807\n",
      "Epoch 16/100\n",
      "50000/50000 [==============================] - 82s - loss: 0.9440 - acc: 0.6697 - val_loss: 0.8977 - val_acc: 0.6824\n",
      "Epoch 17/100\n",
      "50000/50000 [==============================] - 82s - loss: 0.9267 - acc: 0.6757 - val_loss: 0.8711 - val_acc: 0.6975\n",
      "Epoch 18/100\n",
      "50000/50000 [==============================] - 82s - loss: 0.9105 - acc: 0.6821 - val_loss: 0.8708 - val_acc: 0.6984\n",
      "Epoch 19/100\n",
      "50000/50000 [==============================] - 82s - loss: 0.8938 - acc: 0.6856 - val_loss: 0.8535 - val_acc: 0.7013\n",
      "Epoch 20/100\n",
      "50000/50000 [==============================] - 82s - loss: 0.8752 - acc: 0.6936 - val_loss: 0.8604 - val_acc: 0.6944\n",
      "Epoch 21/100\n",
      "50000/50000 [==============================] - 82s - loss: 0.8570 - acc: 0.6984 - val_loss: 0.8244 - val_acc: 0.7108\n",
      "Epoch 22/100\n",
      "50000/50000 [==============================] - 82s - loss: 0.8405 - acc: 0.7039 - val_loss: 0.8131 - val_acc: 0.7164\n",
      "Epoch 23/100\n",
      "50000/50000 [==============================] - 82s - loss: 0.8234 - acc: 0.7112 - val_loss: 0.8170 - val_acc: 0.7150\n",
      "Epoch 24/100\n",
      "50000/50000 [==============================] - 82s - loss: 0.8166 - acc: 0.7131 - val_loss: 0.8033 - val_acc: 0.7200\n",
      "Epoch 25/100\n",
      "50000/50000 [==============================] - 82s - loss: 0.7985 - acc: 0.7217 - val_loss: 0.7880 - val_acc: 0.7247\n",
      "Epoch 26/100\n",
      "50000/50000 [==============================] - 82s - loss: 0.7919 - acc: 0.7237 - val_loss: 0.7807 - val_acc: 0.7325\n",
      "Epoch 27/100\n",
      "50000/50000 [==============================] - 82s - loss: 0.7707 - acc: 0.7292 - val_loss: 0.7735 - val_acc: 0.7313\n",
      "Epoch 28/100\n",
      "50000/50000 [==============================] - 82s - loss: 0.7597 - acc: 0.7345 - val_loss: 0.7614 - val_acc: 0.7347\n",
      "Epoch 29/100\n",
      "50000/50000 [==============================] - 82s - loss: 0.7487 - acc: 0.7388 - val_loss: 0.7646 - val_acc: 0.7357\n",
      "Epoch 30/100\n",
      "50000/50000 [==============================] - 82s - loss: 0.7325 - acc: 0.7425 - val_loss: 0.7512 - val_acc: 0.7389\n",
      "Epoch 31/100\n",
      "50000/50000 [==============================] - 82s - loss: 0.7199 - acc: 0.7490 - val_loss: 0.7419 - val_acc: 0.7413\n",
      "Epoch 32/100\n",
      "50000/50000 [==============================] - 82s - loss: 0.7112 - acc: 0.7517 - val_loss: 0.7400 - val_acc: 0.7426\n",
      "Epoch 33/100\n",
      "50000/50000 [==============================] - 82s - loss: 0.7015 - acc: 0.7547 - val_loss: 0.7535 - val_acc: 0.7373\n",
      "Epoch 34/100\n",
      "50000/50000 [==============================] - 82s - loss: 0.6894 - acc: 0.7600 - val_loss: 0.7216 - val_acc: 0.7514\n",
      "Epoch 35/100\n",
      "50000/50000 [==============================] - 82s - loss: 0.6761 - acc: 0.7663 - val_loss: 0.7136 - val_acc: 0.7545\n",
      "Epoch 36/100\n",
      "50000/50000 [==============================] - 82s - loss: 0.6646 - acc: 0.7670 - val_loss: 0.7153 - val_acc: 0.7538\n",
      "Epoch 37/100\n",
      "50000/50000 [==============================] - 82s - loss: 0.6558 - acc: 0.7699 - val_loss: 0.7172 - val_acc: 0.7502\n",
      "Epoch 38/100\n",
      "50000/50000 [==============================] - 82s - loss: 0.6402 - acc: 0.7754 - val_loss: 0.7063 - val_acc: 0.7542\n",
      "Epoch 39/100\n",
      "50000/50000 [==============================] - 82s - loss: 0.6336 - acc: 0.7777 - val_loss: 0.6989 - val_acc: 0.7590\n",
      "Epoch 40/100\n",
      "50000/50000 [==============================] - 82s - loss: 0.6200 - acc: 0.7835 - val_loss: 0.6940 - val_acc: 0.7607\n",
      "Epoch 41/100\n",
      "50000/50000 [==============================] - 82s - loss: 0.6193 - acc: 0.7837 - val_loss: 0.6860 - val_acc: 0.7629\n",
      "Epoch 42/100\n",
      "50000/50000 [==============================] - 82s - loss: 0.6066 - acc: 0.7873 - val_loss: 0.6922 - val_acc: 0.7595\n",
      "Epoch 43/100\n",
      "50000/50000 [==============================] - 82s - loss: 0.5910 - acc: 0.7922 - val_loss: 0.6851 - val_acc: 0.7647\n",
      "Epoch 44/100\n",
      "50000/50000 [==============================] - 81s - loss: 0.5877 - acc: 0.7934 - val_loss: 0.6790 - val_acc: 0.7659\n",
      "Epoch 45/100\n",
      "50000/50000 [==============================] - 81s - loss: 0.5797 - acc: 0.7956 - val_loss: 0.6717 - val_acc: 0.7684\n",
      "Epoch 46/100\n",
      "50000/50000 [==============================] - 81s - loss: 0.5658 - acc: 0.7990 - val_loss: 0.6765 - val_acc: 0.7640\n",
      "Epoch 47/100\n",
      "50000/50000 [==============================] - 81s - loss: 0.5560 - acc: 0.8055 - val_loss: 0.6721 - val_acc: 0.7666\n",
      "Epoch 48/100\n",
      "50000/50000 [==============================] - 81s - loss: 0.5460 - acc: 0.8073 - val_loss: 0.6706 - val_acc: 0.7689\n",
      "Epoch 49/100\n",
      "50000/50000 [==============================] - 81s - loss: 0.5423 - acc: 0.8094 - val_loss: 0.6658 - val_acc: 0.7700\n",
      "Epoch 50/100\n",
      "50000/50000 [==============================] - 81s - loss: 0.5355 - acc: 0.8106 - val_loss: 0.6714 - val_acc: 0.7677\n",
      "Epoch 51/100\n",
      "50000/50000 [==============================] - 82s - loss: 0.5278 - acc: 0.8150 - val_loss: 0.6685 - val_acc: 0.7715\n",
      "Epoch 52/100\n",
      "50000/50000 [==============================] - 82s - loss: 0.5236 - acc: 0.8179 - val_loss: 0.6604 - val_acc: 0.7749\n",
      "Epoch 53/100\n",
      "50000/50000 [==============================] - 85s - loss: 0.5097 - acc: 0.8194 - val_loss: 0.6742 - val_acc: 0.7736\n",
      "Epoch 54/100\n",
      "50000/50000 [==============================] - 86s - loss: 0.5035 - acc: 0.8212 - val_loss: 0.6636 - val_acc: 0.7734\n",
      "Epoch 55/100\n",
      "50000/50000 [==============================] - 86s - loss: 0.4914 - acc: 0.8265 - val_loss: 0.6710 - val_acc: 0.7714\n",
      "Epoch 56/100\n",
      "50000/50000 [==============================] - 86s - loss: 0.4845 - acc: 0.8304 - val_loss: 0.6603 - val_acc: 0.7759\n",
      "Epoch 57/100\n",
      "50000/50000 [==============================] - 86s - loss: 0.4820 - acc: 0.8303 - val_loss: 0.6614 - val_acc: 0.7772\n",
      "Epoch 58/100\n",
      "50000/50000 [==============================] - 86s - loss: 0.4690 - acc: 0.8342 - val_loss: 0.6635 - val_acc: 0.7731\n",
      "Epoch 59/100\n",
      "50000/50000 [==============================] - 86s - loss: 0.4650 - acc: 0.8364 - val_loss: 0.6592 - val_acc: 0.7750\n",
      "Epoch 60/100\n",
      "50000/50000 [==============================] - 86s - loss: 0.4609 - acc: 0.8359 - val_loss: 0.6578 - val_acc: 0.7778\n",
      "Epoch 61/100\n",
      "50000/50000 [==============================] - 86s - loss: 0.4561 - acc: 0.8391 - val_loss: 0.6575 - val_acc: 0.7784\n",
      "Epoch 62/100\n",
      "50000/50000 [==============================] - 86s - loss: 0.4495 - acc: 0.8408 - val_loss: 0.6562 - val_acc: 0.7792\n",
      "Epoch 63/100\n",
      "50000/50000 [==============================] - 86s - loss: 0.4432 - acc: 0.8424 - val_loss: 0.6628 - val_acc: 0.7766\n",
      "Epoch 64/100\n",
      "50000/50000 [==============================] - 86s - loss: 0.4345 - acc: 0.8468 - val_loss: 0.6619 - val_acc: 0.7783\n",
      "Epoch 65/100\n",
      "50000/50000 [==============================] - 86s - loss: 0.4301 - acc: 0.8484 - val_loss: 0.6495 - val_acc: 0.7843\n",
      "Epoch 66/100\n",
      "50000/50000 [==============================] - 86s - loss: 0.4261 - acc: 0.8482 - val_loss: 0.6607 - val_acc: 0.7803\n",
      "Epoch 67/100\n",
      "50000/50000 [==============================] - 86s - loss: 0.4121 - acc: 0.8537 - val_loss: 0.6617 - val_acc: 0.7790\n",
      "Epoch 68/100\n",
      "50000/50000 [==============================] - 86s - loss: 0.4095 - acc: 0.8549 - val_loss: 0.6581 - val_acc: 0.7808\n",
      "Epoch 69/100\n",
      "50000/50000 [==============================] - 86s - loss: 0.4030 - acc: 0.8557 - val_loss: 0.6630 - val_acc: 0.7803\n",
      "Epoch 70/100\n",
      "50000/50000 [==============================] - 86s - loss: 0.3960 - acc: 0.8588 - val_loss: 0.6588 - val_acc: 0.7820\n",
      "Epoch 71/100\n",
      "50000/50000 [==============================] - 86s - loss: 0.3947 - acc: 0.8598 - val_loss: 0.6649 - val_acc: 0.7802\n",
      "Epoch 72/100\n",
      "50000/50000 [==============================] - 86s - loss: 0.3867 - acc: 0.8626 - val_loss: 0.6512 - val_acc: 0.7812\n",
      "Epoch 73/100\n",
      "50000/50000 [==============================] - 86s - loss: 0.3788 - acc: 0.8641 - val_loss: 0.6573 - val_acc: 0.7819\n",
      "Epoch 74/100\n",
      "50000/50000 [==============================] - 86s - loss: 0.3775 - acc: 0.8656 - val_loss: 0.6734 - val_acc: 0.7794\n",
      "Epoch 75/100\n",
      "50000/50000 [==============================] - 86s - loss: 0.3667 - acc: 0.8689 - val_loss: 0.6562 - val_acc: 0.7859\n",
      "Epoch 76/100\n",
      "50000/50000 [==============================] - 86s - loss: 0.3655 - acc: 0.8683 - val_loss: 0.6563 - val_acc: 0.7861\n",
      "Epoch 77/100\n",
      "50000/50000 [==============================] - 86s - loss: 0.3624 - acc: 0.8700 - val_loss: 0.6614 - val_acc: 0.7835\n",
      "Epoch 78/100\n",
      "50000/50000 [==============================] - 86s - loss: 0.3593 - acc: 0.8731 - val_loss: 0.6699 - val_acc: 0.7840\n",
      "Epoch 79/100\n",
      "50000/50000 [==============================] - 86s - loss: 0.3536 - acc: 0.8735 - val_loss: 0.6738 - val_acc: 0.7818\n",
      "Epoch 80/100\n",
      "50000/50000 [==============================] - 86s - loss: 0.3431 - acc: 0.8775 - val_loss: 0.6674 - val_acc: 0.7825\n",
      "Epoch 81/100\n",
      "50000/50000 [==============================] - 86s - loss: 0.3401 - acc: 0.8776 - val_loss: 0.6690 - val_acc: 0.7859\n",
      "Epoch 82/100\n",
      "50000/50000 [==============================] - 86s - loss: 0.3391 - acc: 0.8777 - val_loss: 0.6688 - val_acc: 0.7857\n",
      "Epoch 83/100\n",
      "50000/50000 [==============================] - 83s - loss: 0.3365 - acc: 0.8799 - val_loss: 0.6681 - val_acc: 0.7836\n",
      "Epoch 84/100\n",
      "50000/50000 [==============================] - 82s - loss: 0.3343 - acc: 0.8786 - val_loss: 0.6713 - val_acc: 0.7844\n",
      "Epoch 85/100\n",
      "50000/50000 [==============================] - 82s - loss: 0.3225 - acc: 0.8843 - val_loss: 0.6635 - val_acc: 0.7835\n",
      "Epoch 86/100\n",
      "50000/50000 [==============================] - 83s - loss: 0.3224 - acc: 0.8834 - val_loss: 0.6776 - val_acc: 0.7847\n",
      "Epoch 87/100\n",
      "50000/50000 [==============================] - 82s - loss: 0.3188 - acc: 0.8853 - val_loss: 0.6781 - val_acc: 0.7813\n",
      "Epoch 88/100\n",
      "50000/50000 [==============================] - 82s - loss: 0.3134 - acc: 0.8877 - val_loss: 0.6785 - val_acc: 0.7833\n",
      "Epoch 89/100\n",
      "50000/50000 [==============================] - 83s - loss: 0.3088 - acc: 0.8895 - val_loss: 0.6741 - val_acc: 0.7841\n",
      "Epoch 90/100\n",
      "50000/50000 [==============================] - 83s - loss: 0.3111 - acc: 0.8900 - val_loss: 0.6672 - val_acc: 0.7866\n",
      "Epoch 91/100\n",
      "50000/50000 [==============================] - 83s - loss: 0.3033 - acc: 0.8918 - val_loss: 0.6745 - val_acc: 0.7883\n",
      "Epoch 92/100\n",
      "50000/50000 [==============================] - 82s - loss: 0.3059 - acc: 0.8889 - val_loss: 0.6680 - val_acc: 0.7856\n",
      "Epoch 93/100\n",
      "50000/50000 [==============================] - 83s - loss: 0.2965 - acc: 0.8936 - val_loss: 0.6684 - val_acc: 0.7873\n",
      "Epoch 94/100\n",
      "50000/50000 [==============================] - 82s - loss: 0.2895 - acc: 0.8973 - val_loss: 0.6903 - val_acc: 0.7867\n",
      "Epoch 95/100\n",
      "50000/50000 [==============================] - 82s - loss: 0.2843 - acc: 0.8979 - val_loss: 0.6806 - val_acc: 0.7866\n",
      "Epoch 96/100\n",
      "50000/50000 [==============================] - 82s - loss: 0.2803 - acc: 0.8990 - val_loss: 0.6834 - val_acc: 0.7862\n",
      "Epoch 97/100\n",
      "50000/50000 [==============================] - 82s - loss: 0.2812 - acc: 0.8987 - val_loss: 0.6827 - val_acc: 0.7852\n",
      "Epoch 98/100\n",
      "50000/50000 [==============================] - 82s - loss: 0.2785 - acc: 0.8991 - val_loss: 0.6883 - val_acc: 0.7876\n",
      "Epoch 99/100\n",
      "50000/50000 [==============================] - 82s - loss: 0.2752 - acc: 0.9018 - val_loss: 0.6921 - val_acc: 0.7842\n",
      "Epoch 100/100\n",
      "50000/50000 [==============================] - 82s - loss: 0.2719 - acc: 0.9026 - val_loss: 0.6882 - val_acc: 0.7883\n"
     ]
    }
   ],
   "source": [
    "model_details = model.fit(images_train, class_train,\n",
    "                    batch_size = 128, # number of samples per gradient update\n",
    "                    epochs = 100, # number of iterations\n",
    "                    validation_data= (images_test, class_test),\n",
    "                    callbacks=[checkpoint],\n",
    "                    verbose=1)"
   ]
  },
  {
   "cell_type": "markdown",
   "metadata": {},
   "source": [
    "### Evaluate the model"
   ]
  },
  {
   "cell_type": "code",
   "execution_count": 17,
   "metadata": {},
   "outputs": [
    {
     "name": "stdout",
     "output_type": "stream",
     "text": [
      "Accuracy: 78.83%\n"
     ]
    }
   ],
   "source": [
    "scores = model.evaluate(images_test, class_test, verbose=0)\n",
    "print(\"Accuracy: %.2f%%\" % (scores[1]*100))"
   ]
  },
  {
   "cell_type": "markdown",
   "metadata": {},
   "source": [
    "### Model accuracy and loss plots"
   ]
  },
  {
   "cell_type": "code",
   "execution_count": 18,
   "metadata": {},
   "outputs": [
    {
     "data": {
      "image/png": "[encoded data removed]",
      "text/plain": [
       "<matplotlib.figure.Figure at 0x7f6eea53fe10>"
      ]
     },
     "metadata": {},
     "output_type": "display_data"
    }
   ],
   "source": [
    "plot_model(model_details)"
   ]
  },
  {
   "cell_type": "markdown",
   "metadata": {},
   "source": [
    "### Predictions"
   ]
  },
  {
   "cell_type": "markdown",
   "metadata": {},
   "source": [
    "Predict class for test set images"
   ]
  },
  {
   "cell_type": "code",
   "execution_count": 23,
   "metadata": {},
   "outputs": [
    {
     "name": "stdout",
     "output_type": "stream",
     "text": [
      "[  2.34778727e-05   3.61718005e-03   7.07750034e-04   6.86623812e-01\n",
      "   2.35363492e-04   2.97410578e-01   9.98710049e-04   1.62866409e-03\n",
      "   8.46819486e-03   2.86295195e-04]\n"
     ]
    }
   ],
   "source": [
    "class_pred = model.predict(images_test, batch_size=32)\n",
    "print(class_pred[0])"
   ]
  },
  {
   "cell_type": "markdown",
   "metadata": {},
   "source": [
    "Get the index of the largest element in each vector"
   ]
  },
  {
   "cell_type": "code",
   "execution_count": 24,
   "metadata": {},
   "outputs": [
    {
     "name": "stdout",
     "output_type": "stream",
     "text": [
      "[3 8 8 ..., 5 1 7]\n"
     ]
    }
   ],
   "source": [
    "labels_pred = np.argmax(class_pred,axis=1)\n",
    "print(labels_pred)"
   ]
  },
  {
   "cell_type": "markdown",
   "metadata": {},
   "source": [
    "Check which labels have been predicted correctly"
   ]
  },
  {
   "cell_type": "code",
   "execution_count": 25,
   "metadata": {},
   "outputs": [
    {
     "name": "stdout",
     "output_type": "stream",
     "text": [
      "[ True  True  True ...,  True  True  True]\n",
      "Number of correct predictions: 7883\n"
     ]
    }
   ],
   "source": [
    "correct = (labels_pred == labels_test)\n",
    "print(correct)\n",
    "print(\"Number of correct predictions: %d\" % sum(correct))"
   ]
  },
  {
   "cell_type": "markdown",
   "metadata": {},
   "source": [
    "Calculate accuracy using manual calculation"
   ]
  },
  {
   "cell_type": "code",
   "execution_count": 26,
   "metadata": {},
   "outputs": [
    {
     "name": "stdout",
     "output_type": "stream",
     "text": [
      "Accuracy: 78.83%\n"
     ]
    }
   ],
   "source": [
    "num_images = len(correct)\n",
    "print(\"Accuracy: %.2f%%\" % ((sum(correct)*100)/num_images))"
   ]
  },
  {
   "cell_type": "markdown",
   "metadata": {},
   "source": [
    "### Show some mis-classifications"
   ]
  },
  {
   "cell_type": "markdown",
   "metadata": {},
   "source": [
    "Get the incorrectly classified images"
   ]
  },
  {
   "cell_type": "code",
   "execution_count": 27,
   "metadata": {
    "collapsed": true
   },
   "outputs": [],
   "source": [
    "incorrect = (correct == False)\n",
    "\n",
    "# Images of the test-set that have been incorrectly classified.\n",
    "images_error = images_test[incorrect]\n",
    "\n",
    "# Get predicted classes for those images\n",
    "labels_error = labels_pred[incorrect]\n",
    "\n",
    "# Get true classes for those images\n",
    "labels_true = labels_test[incorrect]"
   ]
  },
  {
   "cell_type": "markdown",
   "metadata": {},
   "source": [
    "Plot the first 9 mis-classified images"
   ]
  },
  {
   "cell_type": "code",
   "execution_count": 1,
   "metadata": {},
   "outputs": [
    {
     "name": "stdout",
     "output_type": "stream",
     "text": [
      "finish\n"
     ]
    }
   ],
   "source": []
  },
  {
   "cell_type": "markdown",
   "metadata": {},
   "source": []
  }
 ],
 "metadata": {
  "kernelspec": {
   "display_name": "Python 3",
   "language": "python",
   "name": "python3"
  },
  "language_info": {
   "codemirror_mode": {
    "name": "ipython",
    "version": 3
   },
   "file_extension": ".py",
   "mimetype": "text/x-python",
   "name": "python",
   "nbconvert_exporter": "python",
   "pygments_lexer": "ipython3",
   "version": "3.7.2"
  }
 },
 "nbformat": 4,
 "nbformat_minor": 2
}
